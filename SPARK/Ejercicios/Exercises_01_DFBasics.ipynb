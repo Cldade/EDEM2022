{
  "cells": [
    {
      "cell_type": "markdown",
      "metadata": {
        "id": "BNkZfzfxGZ0z"
      },
      "source": [
        "# DataFrames Basics Exercises"
      ]
    },
    {
      "cell_type": "markdown",
      "source": [
        "## Prerrequisites"
      ],
      "metadata": {
        "id": "AQieQ5pkGfNm"
      }
    },
    {
      "cell_type": "markdown",
      "source": [
        "Install Spark and Java in VM"
      ],
      "metadata": {
        "id": "HelxRmCPGpql"
      }
    },
    {
      "cell_type": "code",
      "source": [
        "# install Java8\n",
        "!apt-get install openjdk-8-jdk-headless -qq > /dev/null\n",
        "# download spark3.0.1\n",
        "!wget -q https://apache.osuosl.org/spark/spark-3.3.1/spark-3.3.1-bin-hadoop2.tgz"
      ],
      "metadata": {
        "id": "9Cn3c-ywGtDV"
      },
      "execution_count": 1,
      "outputs": []
    },
    {
      "cell_type": "code",
      "source": [
        "ls -l # check the .tgz is there"
      ],
      "metadata": {
        "colab": {
          "base_uri": "https://localhost:8080/"
        },
        "id": "D95sNcJfGvyV",
        "outputId": "e114be37-b803-489d-a216-dbd822b15b36"
      },
      "execution_count": 2,
      "outputs": [
        {
          "output_type": "stream",
          "name": "stdout",
          "text": [
            "total 267680\n",
            "drwxr-xr-x 1 root root      4096 Dec  7 14:41 \u001b[0m\u001b[01;34msample_data\u001b[0m/\n",
            "-rw-r--r-- 1 root root 274099817 Oct 15 10:53 spark-3.3.1-bin-hadoop2.tgz\n"
          ]
        }
      ]
    },
    {
      "cell_type": "code",
      "source": [
        "# unzip it\n",
        "!tar xf spark-3.3.1-bin-hadoop2.tgz"
      ],
      "metadata": {
        "id": "qtBMGi7EGvwN"
      },
      "execution_count": 3,
      "outputs": []
    },
    {
      "cell_type": "code",
      "source": [
        "!pip install -q findspark"
      ],
      "metadata": {
        "id": "6JO331NrGvtt"
      },
      "execution_count": 4,
      "outputs": []
    },
    {
      "cell_type": "markdown",
      "source": [
        "Defining the environment"
      ],
      "metadata": {
        "id": "02epIDkbG24d"
      }
    },
    {
      "cell_type": "code",
      "source": [
        "import os\n",
        "os.environ[\"JAVA_HOME\"] = \"/usr/lib/jvm/java-8-openjdk-amd64\"\n",
        "os.environ[\"SPARK_HOME\"] = \"/content/spark-3.3.1-bin-hadoop2\"\n",
        "os.environ[\"PYSPARK_SUBMIT_ARGS\"] = \"--master local[*] pyspark-shell\""
      ],
      "metadata": {
        "id": "qmON5zHJG4-m"
      },
      "execution_count": 5,
      "outputs": []
    },
    {
      "cell_type": "markdown",
      "metadata": {
        "id": "WgvNJQOAGZ00"
      },
      "source": [
        "Start Spark Session\n",
        "\n",
        "---"
      ]
    },
    {
      "cell_type": "code",
      "execution_count": 6,
      "metadata": {
        "colab": {
          "base_uri": "https://localhost:8080/",
          "height": 35
        },
        "id": "siaPZq4XGZ00",
        "outputId": "d8a5f2e9-4e45-447f-927e-e206a07df72c"
      },
      "outputs": [
        {
          "output_type": "execute_result",
          "data": {
            "text/plain": [
              "'3.3.1'"
            ],
            "application/vnd.google.colaboratory.intrinsic+json": {
              "type": "string"
            }
          },
          "metadata": {},
          "execution_count": 6
        }
      ],
      "source": [
        "import findspark\n",
        "findspark.init(\"spark-3.3.1-bin-hadoop2\")# SPARK_HOME\n",
        "\n",
        "from pyspark.sql import SparkSession\n",
        "\n",
        "# create the session\n",
        "spark = SparkSession \\\n",
        "        .builder \\\n",
        "        .appName(\"DataFramesBasics Exercises\") \\\n",
        "        .master(\"local[*]\") \\\n",
        "        .getOrCreate()\n",
        "\n",
        "spark.version"
      ]
    },
    {
      "cell_type": "code",
      "execution_count": 7,
      "metadata": {
        "colab": {
          "base_uri": "https://localhost:8080/",
          "height": 219
        },
        "id": "nsBkpLh6GZ01",
        "outputId": "8c269532-00c2-4191-bb23-f9e4edd4d33b"
      },
      "outputs": [
        {
          "output_type": "execute_result",
          "data": {
            "text/plain": [
              "<pyspark.sql.session.SparkSession at 0x7f957fd51040>"
            ],
            "text/html": [
              "\n",
              "            <div>\n",
              "                <p><b>SparkSession - in-memory</b></p>\n",
              "                \n",
              "        <div>\n",
              "            <p><b>SparkContext</b></p>\n",
              "\n",
              "            <p><a href=\"http://f05d2a4bdfe6:4040\">Spark UI</a></p>\n",
              "\n",
              "            <dl>\n",
              "              <dt>Version</dt>\n",
              "                <dd><code>v3.3.1</code></dd>\n",
              "              <dt>Master</dt>\n",
              "                <dd><code>local[*]</code></dd>\n",
              "              <dt>AppName</dt>\n",
              "                <dd><code>DataFramesBasics Exercises</code></dd>\n",
              "            </dl>\n",
              "        </div>\n",
              "        \n",
              "            </div>\n",
              "        "
            ]
          },
          "metadata": {},
          "execution_count": 7
        }
      ],
      "source": [
        "spark"
      ]
    },
    {
      "cell_type": "code",
      "execution_count": 8,
      "metadata": {
        "id": "Bqu4fQnNGZ02"
      },
      "outputs": [],
      "source": [
        "# For Pandas conversion optimization\n",
        "spark.conf.set(\"spark.sql.execution.arrow.enabled\", \"true\")"
      ]
    },
    {
      "cell_type": "code",
      "execution_count": 9,
      "metadata": {
        "id": "-9DDmYQKGZ02"
      },
      "outputs": [],
      "source": [
        "# Import sql functions\n",
        "from pyspark.sql.functions import *"
      ]
    },
    {
      "cell_type": "markdown",
      "source": [
        "Download datasets"
      ],
      "metadata": {
        "id": "NYrtXWZIHKMt"
      }
    },
    {
      "cell_type": "code",
      "source": [
        "!mkdir -p dataset\n",
        "!wget -q https://raw.githubusercontent.com/paponsro/spark_edem_2022/master/datasets/movies.json -P /dataset\n",
        "!wget -q https://raw.githubusercontent.com/paponsro/spark_edem_2022/master/datasets/cars.json -P /dataset"
      ],
      "metadata": {
        "id": "2lkKBm3CHL-l"
      },
      "execution_count": 10,
      "outputs": []
    },
    {
      "cell_type": "markdown",
      "metadata": {
        "id": "sxWVtHu5GZ02"
      },
      "source": [
        "## DataFrames Basics Exercises"
      ]
    },
    {
      "cell_type": "markdown",
      "source": [
        "1) Create a manual DF describing smartphones\n",
        "  - maker\n",
        "  - model\n",
        "  - screen dimension\n",
        "  - camera megapixels\n",
        "  \n",
        "2) Read another file from the dataset/ folder, e.g. movies.json\n",
        "  - print its schema\n",
        "  - count the number of rows, call count()"
      ],
      "metadata": {
        "id": "rZt5nAVLRmeF"
      }
    },
    {
      "cell_type": "code",
      "source": [
        "import pandas as pd\n",
        "\n",
        "#Datos del DF\n",
        "data = [[\"samung\", \"1\",\"12\",\"12\"],[\"iphone\", \"1\",\"12\",\"12\"], [\"xiaomi\", \"1\",\"12\",\"12\"]]\n",
        "\n",
        "#DF sin usar pandas\n",
        "df1 = spark.createDataFrame(data, schema=\"maker STRING NOT NULL, model STRING, screen_dimension STRING, camera_megapixels STRING\")\n",
        "\n",
        "#DF usando pandas\n",
        "pdf = pd.DataFrame(data, columns=[\"maker\", \"model\", \"screen_dimension\", \"camera_megapixels\"])\n",
        "df2 = spark.createDataFrame(pdf)\n"
      ],
      "metadata": {
        "id": "DF-WHVfjRq49"
      },
      "execution_count": 36,
      "outputs": []
    },
    {
      "cell_type": "code",
      "source": [
        "df1.show()"
      ],
      "metadata": {
        "colab": {
          "base_uri": "https://localhost:8080/"
        },
        "id": "Ovye3SR14KWj",
        "outputId": "e4f9a87c-d3d5-4791-da11-78203ca2ea98"
      },
      "execution_count": 26,
      "outputs": [
        {
          "output_type": "stream",
          "name": "stdout",
          "text": [
            "+------+-----+----------------+-----------------+\n",
            "| maker|model|screen_dimension|camera_megapixels|\n",
            "+------+-----+----------------+-----------------+\n",
            "|samung|    1|              12|               12|\n",
            "|iphone|    1|              12|               12|\n",
            "|xiaomi|    1|              12|               12|\n",
            "+------+-----+----------------+-----------------+\n",
            "\n"
          ]
        }
      ]
    },
    {
      "cell_type": "code",
      "source": [
        "df2.show()"
      ],
      "metadata": {
        "colab": {
          "base_uri": "https://localhost:8080/"
        },
        "id": "jOsz1XOo4OCQ",
        "outputId": "3dd4c66d-2c4a-4714-a27e-b76da97e63a1"
      },
      "execution_count": 27,
      "outputs": [
        {
          "output_type": "stream",
          "name": "stdout",
          "text": [
            "+------+-----+----------------+-----------------+\n",
            "| maker|model|screen_dimension|camera_megapixels|\n",
            "+------+-----+----------------+-----------------+\n",
            "|samung|    1|              12|               12|\n",
            "|iphone|    1|              12|               12|\n",
            "|xiaomi|    1|              12|               12|\n",
            "+------+-----+----------------+-----------------+\n",
            "\n"
          ]
        }
      ]
    },
    {
      "cell_type": "code",
      "source": [
        "df1.printSchema()"
      ],
      "metadata": {
        "colab": {
          "base_uri": "https://localhost:8080/"
        },
        "id": "FGJZ8Xfc4yaG",
        "outputId": "6cdf00ab-4c6a-49f7-8e40-904b75edd3ef"
      },
      "execution_count": 31,
      "outputs": [
        {
          "output_type": "stream",
          "name": "stdout",
          "text": [
            "root\n",
            " |-- maker: string (nullable = false)\n",
            " |-- model: string (nullable = true)\n",
            " |-- screen_dimension: string (nullable = true)\n",
            " |-- camera_megapixels: string (nullable = true)\n",
            "\n"
          ]
        }
      ]
    },
    {
      "cell_type": "code",
      "source": [
        "df2.printSchema()"
      ],
      "metadata": {
        "colab": {
          "base_uri": "https://localhost:8080/"
        },
        "id": "DaRcXDsl4vIt",
        "outputId": "b5d81c52-f99a-428f-efe6-d4f5a499d8b7"
      },
      "execution_count": 33,
      "outputs": [
        {
          "output_type": "stream",
          "name": "stdout",
          "text": [
            "root\n",
            " |-- maker NOT NULL: string (nullable = true)\n",
            " |-- model: string (nullable = true)\n",
            " |-- screen_dimension: string (nullable = true)\n",
            " |-- camera_megapixels: string (nullable = true)\n",
            "\n"
          ]
        }
      ]
    },
    {
      "cell_type": "code",
      "source": [
        "movies_df = spark.read.json(\"../dataset/movies.json\")\n",
        "movies_df.printSchema()"
      ],
      "metadata": {
        "colab": {
          "base_uri": "https://localhost:8080/"
        },
        "id": "4bUmdgSV-l03",
        "outputId": "2c98cef7-e966-4006-fd0a-64980c05c940"
      },
      "execution_count": 42,
      "outputs": [
        {
          "output_type": "stream",
          "name": "stdout",
          "text": [
            "root\n",
            " |-- Creative_Type: string (nullable = true)\n",
            " |-- Director: string (nullable = true)\n",
            " |-- Distributor: string (nullable = true)\n",
            " |-- IMDB_Rating: double (nullable = true)\n",
            " |-- IMDB_Votes: long (nullable = true)\n",
            " |-- MPAA_Rating: string (nullable = true)\n",
            " |-- Major_Genre: string (nullable = true)\n",
            " |-- Production_Budget: long (nullable = true)\n",
            " |-- Release_Date: string (nullable = true)\n",
            " |-- Rotten_Tomatoes_Rating: long (nullable = true)\n",
            " |-- Running_Time_min: long (nullable = true)\n",
            " |-- Source: string (nullable = true)\n",
            " |-- Title: string (nullable = true)\n",
            " |-- US_DVD_Sales: long (nullable = true)\n",
            " |-- US_Gross: long (nullable = true)\n",
            " |-- Worldwide_Gross: long (nullable = true)\n",
            "\n"
          ]
        }
      ]
    },
    {
      "cell_type": "code",
      "source": [
        "movies_df.count()"
      ],
      "metadata": {
        "colab": {
          "base_uri": "https://localhost:8080/"
        },
        "id": "Zq1ynGyj-shx",
        "outputId": "8a47adf7-1043-4249-b24b-971027c32769"
      },
      "execution_count": 43,
      "outputs": [
        {
          "output_type": "execute_result",
          "data": {
            "text/plain": [
              "3201"
            ]
          },
          "metadata": {},
          "execution_count": 43
        }
      ]
    },
    {
      "cell_type": "markdown",
      "source": [
        "## Columns and Expressions Exercises"
      ],
      "metadata": {
        "id": "99pcX8w3SVdO"
      }
    },
    {
      "cell_type": "markdown",
      "source": [
        "1. Read the movies DF and select 2 columns of your choice\n",
        "2. Create another column summing up the total profit of the movies = US_Gross + Worldwide_Gross + DVD sales. Are you pbtaining nulls? How you can solve it?\n",
        "3. Select all COMEDY movies with IMDB rating above 6\n",
        "\n",
        "Use as many versions as possible"
      ],
      "metadata": {
        "id": "Q4LymMG0Sg_l"
      }
    },
    {
      "cell_type": "markdown",
      "source": [
        "# Read the movies DF and select 2 columns of your choice"
      ],
      "metadata": {
        "id": "pVxYPdYY94C9"
      }
    },
    {
      "cell_type": "code",
      "source": [
        "movies_df = spark.read.json(\"../dataset/movies.json\")\n",
        "movies_df.show(2)"
      ],
      "metadata": {
        "id": "zggMCTkASeO0",
        "colab": {
          "base_uri": "https://localhost:8080/"
        },
        "outputId": "8c3cdece-413d-47ef-b1d0-68b263cae0f6"
      },
      "execution_count": 41,
      "outputs": [
        {
          "output_type": "stream",
          "name": "stdout",
          "text": [
            "+-------------+--------+-----------+-----------+----------+-----------+-----------+-----------------+------------+----------------------+----------------+------+--------------------+------------+--------+---------------+\n",
            "|Creative_Type|Director|Distributor|IMDB_Rating|IMDB_Votes|MPAA_Rating|Major_Genre|Production_Budget|Release_Date|Rotten_Tomatoes_Rating|Running_Time_min|Source|               Title|US_DVD_Sales|US_Gross|Worldwide_Gross|\n",
            "+-------------+--------+-----------+-----------+----------+-----------+-----------+-----------------+------------+----------------------+----------------+------+--------------------+------------+--------+---------------+\n",
            "|         null|    null|   Gramercy|        6.1|      1071|          R|       null|          8000000|   12-Jun-98|                  null|            null|  null|      The Land Girls|        null|  146083|         146083|\n",
            "|         null|    null|     Strand|        6.9|       207|          R|      Drama|           300000|    7-Aug-98|                  null|            null|  null|First Love, Last ...|        null|   10876|          10876|\n",
            "+-------------+--------+-----------+-----------+----------+-----------+-----------+-----------------+------------+----------------------+----------------+------+--------------------+------------+--------+---------------+\n",
            "only showing top 2 rows\n",
            "\n"
          ]
        }
      ]
    },
    {
      "cell_type": "markdown",
      "source": [
        "# Create another column summing up the total profit of the movies = US_Gross + Worldwide_Gross + DVD sales. Are you pbtaining nulls? How you can solve it?"
      ],
      "metadata": {
        "id": "CK1QepqB9_Ds"
      }
    },
    {
      "cell_type": "code",
      "source": [
        "movies_df = movies_df.fillna({\"US_DVD_Sales\": 0})\n",
        "movies_df2 = movies_df.withColumn(\"Total_profit\", col(\"US_Gross\") + col(\"Worldwide_Gross\") + col(\"US_DVD_Sales\"))\n",
        "movies_df2.show()"
      ],
      "metadata": {
        "colab": {
          "base_uri": "https://localhost:8080/"
        },
        "id": "PAnfpwsi-Bu7",
        "outputId": "70130064-d6be-442f-f1a1-166196cd266b"
      },
      "execution_count": 50,
      "outputs": [
        {
          "output_type": "stream",
          "name": "stdout",
          "text": [
            "+--------------------+-----------------+--------------+-----------+----------+-----------+-----------+-----------------+------------+----------------------+----------------+-------------------+--------------------+------------+--------+---------------+------------+\n",
            "|       Creative_Type|         Director|   Distributor|IMDB_Rating|IMDB_Votes|MPAA_Rating|Major_Genre|Production_Budget|Release_Date|Rotten_Tomatoes_Rating|Running_Time_min|             Source|               Title|US_DVD_Sales|US_Gross|Worldwide_Gross|Total_profit|\n",
            "+--------------------+-----------------+--------------+-----------+----------+-----------+-----------+-----------------+------------+----------------------+----------------+-------------------+--------------------+------------+--------+---------------+------------+\n",
            "|                null|             null|      Gramercy|        6.1|      1071|          R|       null|          8000000|   12-Jun-98|                  null|            null|               null|      The Land Girls|           0|  146083|         146083|      292166|\n",
            "|                null|             null|        Strand|        6.9|       207|          R|      Drama|           300000|    7-Aug-98|                  null|            null|               null|First Love, Last ...|           0|   10876|          10876|       21752|\n",
            "|                null|             null|     Lionsgate|        6.8|       865|       null|     Comedy|           250000|   28-Aug-98|                  null|            null|               null|I Married a Stran...|           0|  203134|         203134|      406268|\n",
            "|                null|             null|     Fine Line|       null|      null|       null|     Comedy|           300000|   11-Sep-98|                    13|            null|               null|Let's Talk About Sex|           0|  373615|         373615|      747230|\n",
            "|Contemporary Fiction|             null|       Trimark|        3.4|       165|          R|      Drama|          1000000|    9-Oct-98|                    62|            null|Original Screenplay|                Slam|           0| 1009819|        1087521|     2097340|\n",
            "|                null|             null|           MGM|       null|      null|       null|       null|          1600000|   15-Jan-99|                  null|            null|               null| Mississippi Mermaid|           0|   24551|        2624551|     2649102|\n",
            "|                null|Christopher Nolan|     Zeitgeist|        7.7|     15133|          R|       null|             6000|    4-Apr-99|                  null|            null|               null|           Following|           0|   44705|          44705|       89410|\n",
            "|Contemporary Fiction|             null|       Artisan|        3.8|       353|          R|     Comedy|          1600000|    9-Apr-99|                  null|            null|Original Screenplay|             Foolish|           0| 6026908|        6026908|    12053816|\n",
            "|                null|   Roman Polanski|          null|        5.8|      3275|          R|       null|         40000000|    1-Jul-86|                    25|            null|               null|             Pirates|           0| 1641825|        6341825|     7983650|\n",
            "|                null|             null|          null|        7.0|      2906|       null|       null|          6000000|   31-Dec-46|                    86|            null|               null|     Duel in the Sun|           0|20400000|       20400000|    40800000|\n",
            "|                null|             null|          null|        7.0|      4035|       null|       null|          1000000|    7-Oct-63|                    81|            null|               null|           Tom Jones|           0|37600000|       37600000|    75200000|\n",
            "|                null|             null| Sony Pictures|        7.5|      9111|       null|    Musical|         10000000|   11-Dec-68|                    84|            null|               null|             Oliver!|           0|37402877|       37402877|    74805754|\n",
            "|                null|             null|     Universal|        8.4|     82786|       null|       null|          2000000|   25-Dec-62|                    97|            null|               null|To Kill A Mocking...|           0|13129846|       13129846|    26259692|\n",
            "|                null|Richard Fleischer|          null|       null|      null|       null|       null|         25000000|   23-Sep-70|                  null|            null|               null|    Tora, Tora, Tora|           0|29548291|       29548291|    59096582|\n",
            "|                null|             null|          null|        6.8|      1532|       null|       null|           100000|    1-Mar-87|                    87|            null|               null|   Hollywood Shuffle|           0| 5228617|        5228617|    10457234|\n",
            "|                null|             null|          null|       null|      null|       null|       null|           100000|   17-Sep-20|                  null|            null|               null|Over the Hill to ...|           0| 3000000|        3000000|     6000000|\n",
            "|                null|             null|          null|        7.0|       451|       null|       null|          5200000|    1-Aug-44|                  null|            null|               null|              Wilson|           0| 2000000|        2000000|     4000000|\n",
            "|                null|    Blake Edwards|          null|        6.1|       858|       null|       null|         22000000|    1-Jan-70|                  null|            null|               null|        Darling Lili|           0| 5000000|        5000000|    10000000|\n",
            "|                null|             null|          null|        2.5|      1677|       null|       null|         13500000|    5-Oct-56|                    90|            null|               null|The Ten Commandments|           0|80000000|       80000000|   160000000|\n",
            "|                null|     Sidney Lumet|United Artists|        8.9|    119101|       null|      Drama|           340000|   13-Apr-57|                  null|            null|Original Screenplay|        12 Angry Men|           0|       0|              0|           0|\n",
            "+--------------------+-----------------+--------------+-----------+----------+-----------+-----------+-----------------+------------+----------------------+----------------+-------------------+--------------------+------------+--------+---------------+------------+\n",
            "only showing top 20 rows\n",
            "\n"
          ]
        }
      ]
    },
    {
      "cell_type": "markdown",
      "source": [
        "# Select all COMEDY movies with IMDB rating above 6"
      ],
      "metadata": {
        "id": "IcCWirrSBqyq"
      }
    },
    {
      "cell_type": "code",
      "source": [
        "subset_df = movies_df.where(\"IMDB_Rating > 6 and Major_Genre = 'Comedy'\")\n",
        "subset_df.show()"
      ],
      "metadata": {
        "colab": {
          "base_uri": "https://localhost:8080/"
        },
        "id": "vmBduiuzBr8V",
        "outputId": "6a46b900-7124-42b9-99e8-38fc4ae00d0b"
      },
      "execution_count": 62,
      "outputs": [
        {
          "output_type": "stream",
          "name": "stdout",
          "text": [
            "+--------------------+-----------------+--------------------+-----------+----------+-----------+-----------+-----------------+------------+----------------------+----------------+--------------------+--------------------+------------+---------+---------------+\n",
            "|       Creative_Type|         Director|         Distributor|IMDB_Rating|IMDB_Votes|MPAA_Rating|Major_Genre|Production_Budget|Release_Date|Rotten_Tomatoes_Rating|Running_Time_min|              Source|               Title|US_DVD_Sales| US_Gross|Worldwide_Gross|\n",
            "+--------------------+-----------------+--------------------+-----------+----------+-----------+-----------+-----------------+------------+----------------------+----------------+--------------------+--------------------+------------+---------+---------------+\n",
            "|                null|             null|           Lionsgate|        6.8|       865|       null|     Comedy|           250000|   28-Aug-98|                  null|            null|                null|I Married a Stran...|           0|   203134|         203134|\n",
            "|                null|    Shane Meadows|       October Films|        6.9|      1417|          R|     Comedy|          2000000|   15-Apr-98|                  null|            null| Original Screenplay|24 7: Twenty Four...|           0|    72544|          72544|\n",
            "|Contemporary Fiction| Robert Rodriguez|             Miramax|        6.4|     34328|          R|     Comedy|          4000000|   25-Dec-95|                    14|            null| Original Screenplay|          Four Rooms|           0|  4301000|        4301000|\n",
            "|Contemporary Fiction|        Alan Alda|           Universal|        7.0|      1814|       null|     Comedy|          6500000|   22-May-81|                    71|            null| Original Screenplay|    The Four Seasons|           0| 42488161|       42488161|\n",
            "|Contemporary Fiction|      Tom Shadyac|        Warner Bros.|        6.6|     63543|      PG-13|     Comedy|         12000000|    4-Feb-94|                    49|            null| Original Screenplay|Ace Ventura: Pet ...|           0| 72217396|      107217396|\n",
            "|                null|     George Lucas|           Universal|        7.6|     30952|       null|     Comedy|           777000|   11-Aug-73|                    97|            null| Original Screenplay|   American Graffiti|           0|115000000|      140000000|\n",
            "|                null|      Woody Allen|                 MGM|        8.2|     65406|       null|     Comedy|          4000000|   20-Apr-77|                    98|            null| Original Screenplay|          Annie Hall|           0| 38251425|       38251425|\n",
            "|Contemporary Fiction|             null|            Alliance|        6.9|       151|  Not Rated|     Comedy|          8000000|    4-Aug-06|                    67|            null| Original Screenplay|    Bon Cop, Bad Cop|           0| 12671300|       12671300|\n",
            "|             Fantasy|   Penny Marshall|    20th Century Fox|        7.2|     49256|       null|     Comedy|         18000000|    3-Jun-88|                    96|            null| Original Screenplay|                 Big|           0|114968774|      151668774|\n",
            "|                null|      Woody Allen|                 MGM|        7.1|     12415|      PG-13|     Comedy|          2000000|   28-Apr-71|                    89|            null| Original Screenplay|             Bananas|           0|     null|           null|\n",
            "|                null|       Mel Brooks|        Warner Bros.|        7.8|     45771|       null|     Comedy|          2600000|    1-Jan-74|                    89|            null| Original Screenplay|     Blazing Saddles|           0|119500000|      119500000|\n",
            "|     Science Fiction|    Stephen Herek|      Orion Pictures|        6.7|     30341|       null|     Comedy|         10000000|   17-Feb-89|                    81|            null| Original Screenplay|Bill & Ted's Exce...|           0| 39916091|       39916091|\n",
            "|             Fantasy|       Tim Burton|        Warner Bros.|        7.3|     61197|       null|     Comedy|         15000000|   30-Mar-88|                  null|            null| Original Screenplay|        Beetle Juice|           0| 73326666|       73326666|\n",
            "|Contemporary Fiction|             null|Link Productions ...|        7.0|      7129|  Not Rated|     Comedy|         16000000|   25-Jul-08|                  null|             109| Original Screenplay|Bienvenue chez le...|           0|  1470856|      243470856|\n",
            "|Contemporary Fiction|     Harold Ramis|        Warner Bros.|        7.3|     35436|       null|     Comedy|          6000000|   25-Jul-80|                    75|            null| Original Screenplay|          Caddyshack|           0| 39846344|       39846344|\n",
            "|Contemporary Fiction|      John Huston|       Sony Pictures|        8.0|    172936|       null|     Comedy|         12000000|   28-Apr-67|                    30|            null|Based on Book/Sho...|       Casino Royale|           0| 22744718|       41744718|\n",
            "|  Historical Fiction|             null|                 MGM|        8.0|     51757|         PG|     Comedy|          3250000|   18-Nov-83|                    88|            null|Based on Book/Sho...|   A Christmas Story|           0| 19294144|       19294144|\n",
            "|  Historical Fiction|        Spike Lee|           Universal|        6.5|      3137|      PG-13|     Comedy|         14000000|   13-May-94|                    75|            null| Original Screenplay|            Crooklyn|           0| 13024170|       13024170|\n",
            "|Contemporary Fiction|Thomas Vinterberg|       October Films|        8.1|     26607|          R|     Comedy|          1300000|    9-Oct-98|                  null|            null| Original Screenplay|              Festen|           0|  1647780|        1647780|\n",
            "|Contemporary Fiction|   Amy Heckerling|  Paramount Pictures|        6.7|     39055|      PG-13|     Comedy|         13700000|    1-Jul-95|                    83|            null|Based on Book/Sho...|            Clueless|           0| 56598476|       56598476|\n",
            "+--------------------+-----------------+--------------------+-----------+----------+-----------+-----------+-----------------+------------+----------------------+----------------+--------------------+--------------------+------------+---------+---------------+\n",
            "only showing top 20 rows\n",
            "\n"
          ]
        }
      ]
    },
    {
      "cell_type": "code",
      "source": [
        "subset_df = movies_df.filter(\"IMDB_Rating > 6 and Major_Genre = 'Comedy'\")\n",
        "subset_df.show()"
      ],
      "metadata": {
        "colab": {
          "base_uri": "https://localhost:8080/"
        },
        "id": "0hrp2dHsFnVW",
        "outputId": "1c845a40-fc05-4204-d5c8-551b9bfe71f4"
      },
      "execution_count": 63,
      "outputs": [
        {
          "output_type": "stream",
          "name": "stdout",
          "text": [
            "+--------------------+-----------------+--------------------+-----------+----------+-----------+-----------+-----------------+------------+----------------------+----------------+--------------------+--------------------+------------+---------+---------------+\n",
            "|       Creative_Type|         Director|         Distributor|IMDB_Rating|IMDB_Votes|MPAA_Rating|Major_Genre|Production_Budget|Release_Date|Rotten_Tomatoes_Rating|Running_Time_min|              Source|               Title|US_DVD_Sales| US_Gross|Worldwide_Gross|\n",
            "+--------------------+-----------------+--------------------+-----------+----------+-----------+-----------+-----------------+------------+----------------------+----------------+--------------------+--------------------+------------+---------+---------------+\n",
            "|                null|             null|           Lionsgate|        6.8|       865|       null|     Comedy|           250000|   28-Aug-98|                  null|            null|                null|I Married a Stran...|           0|   203134|         203134|\n",
            "|                null|    Shane Meadows|       October Films|        6.9|      1417|          R|     Comedy|          2000000|   15-Apr-98|                  null|            null| Original Screenplay|24 7: Twenty Four...|           0|    72544|          72544|\n",
            "|Contemporary Fiction| Robert Rodriguez|             Miramax|        6.4|     34328|          R|     Comedy|          4000000|   25-Dec-95|                    14|            null| Original Screenplay|          Four Rooms|           0|  4301000|        4301000|\n",
            "|Contemporary Fiction|        Alan Alda|           Universal|        7.0|      1814|       null|     Comedy|          6500000|   22-May-81|                    71|            null| Original Screenplay|    The Four Seasons|           0| 42488161|       42488161|\n",
            "|Contemporary Fiction|      Tom Shadyac|        Warner Bros.|        6.6|     63543|      PG-13|     Comedy|         12000000|    4-Feb-94|                    49|            null| Original Screenplay|Ace Ventura: Pet ...|           0| 72217396|      107217396|\n",
            "|                null|     George Lucas|           Universal|        7.6|     30952|       null|     Comedy|           777000|   11-Aug-73|                    97|            null| Original Screenplay|   American Graffiti|           0|115000000|      140000000|\n",
            "|                null|      Woody Allen|                 MGM|        8.2|     65406|       null|     Comedy|          4000000|   20-Apr-77|                    98|            null| Original Screenplay|          Annie Hall|           0| 38251425|       38251425|\n",
            "|Contemporary Fiction|             null|            Alliance|        6.9|       151|  Not Rated|     Comedy|          8000000|    4-Aug-06|                    67|            null| Original Screenplay|    Bon Cop, Bad Cop|           0| 12671300|       12671300|\n",
            "|             Fantasy|   Penny Marshall|    20th Century Fox|        7.2|     49256|       null|     Comedy|         18000000|    3-Jun-88|                    96|            null| Original Screenplay|                 Big|           0|114968774|      151668774|\n",
            "|                null|      Woody Allen|                 MGM|        7.1|     12415|      PG-13|     Comedy|          2000000|   28-Apr-71|                    89|            null| Original Screenplay|             Bananas|           0|     null|           null|\n",
            "|                null|       Mel Brooks|        Warner Bros.|        7.8|     45771|       null|     Comedy|          2600000|    1-Jan-74|                    89|            null| Original Screenplay|     Blazing Saddles|           0|119500000|      119500000|\n",
            "|     Science Fiction|    Stephen Herek|      Orion Pictures|        6.7|     30341|       null|     Comedy|         10000000|   17-Feb-89|                    81|            null| Original Screenplay|Bill & Ted's Exce...|           0| 39916091|       39916091|\n",
            "|             Fantasy|       Tim Burton|        Warner Bros.|        7.3|     61197|       null|     Comedy|         15000000|   30-Mar-88|                  null|            null| Original Screenplay|        Beetle Juice|           0| 73326666|       73326666|\n",
            "|Contemporary Fiction|             null|Link Productions ...|        7.0|      7129|  Not Rated|     Comedy|         16000000|   25-Jul-08|                  null|             109| Original Screenplay|Bienvenue chez le...|           0|  1470856|      243470856|\n",
            "|Contemporary Fiction|     Harold Ramis|        Warner Bros.|        7.3|     35436|       null|     Comedy|          6000000|   25-Jul-80|                    75|            null| Original Screenplay|          Caddyshack|           0| 39846344|       39846344|\n",
            "|Contemporary Fiction|      John Huston|       Sony Pictures|        8.0|    172936|       null|     Comedy|         12000000|   28-Apr-67|                    30|            null|Based on Book/Sho...|       Casino Royale|           0| 22744718|       41744718|\n",
            "|  Historical Fiction|             null|                 MGM|        8.0|     51757|         PG|     Comedy|          3250000|   18-Nov-83|                    88|            null|Based on Book/Sho...|   A Christmas Story|           0| 19294144|       19294144|\n",
            "|  Historical Fiction|        Spike Lee|           Universal|        6.5|      3137|      PG-13|     Comedy|         14000000|   13-May-94|                    75|            null| Original Screenplay|            Crooklyn|           0| 13024170|       13024170|\n",
            "|Contemporary Fiction|Thomas Vinterberg|       October Films|        8.1|     26607|          R|     Comedy|          1300000|    9-Oct-98|                  null|            null| Original Screenplay|              Festen|           0|  1647780|        1647780|\n",
            "|Contemporary Fiction|   Amy Heckerling|  Paramount Pictures|        6.7|     39055|      PG-13|     Comedy|         13700000|    1-Jul-95|                    83|            null|Based on Book/Sho...|            Clueless|           0| 56598476|       56598476|\n",
            "+--------------------+-----------------+--------------------+-----------+----------+-----------+-----------+-----------------+------------+----------------------+----------------+--------------------+--------------------+------------+---------+---------------+\n",
            "only showing top 20 rows\n",
            "\n"
          ]
        }
      ]
    },
    {
      "cell_type": "markdown",
      "source": [
        "# La misma solución pero con una select"
      ],
      "metadata": {
        "id": "6mGA6B9CFWDl"
      }
    },
    {
      "cell_type": "code",
      "source": [
        "movies_df.createOrReplaceTempView(\"Movies\")\n",
        "query_df = spark.sql(\"SELECT * FROM Movies WHERE IMDB_Rating > 6 and Major_Genre = 'Comedy'\")\n",
        "query_df.show()"
      ],
      "metadata": {
        "colab": {
          "base_uri": "https://localhost:8080/"
        },
        "id": "2mQucTSUEH1C",
        "outputId": "3880fd8c-5e42-477c-db85-d44fb78c82fb"
      },
      "execution_count": 61,
      "outputs": [
        {
          "output_type": "stream",
          "name": "stdout",
          "text": [
            "+--------------------+-----------------+--------------------+-----------+----------+-----------+-----------+-----------------+------------+----------------------+----------------+--------------------+--------------------+------------+---------+---------------+\n",
            "|       Creative_Type|         Director|         Distributor|IMDB_Rating|IMDB_Votes|MPAA_Rating|Major_Genre|Production_Budget|Release_Date|Rotten_Tomatoes_Rating|Running_Time_min|              Source|               Title|US_DVD_Sales| US_Gross|Worldwide_Gross|\n",
            "+--------------------+-----------------+--------------------+-----------+----------+-----------+-----------+-----------------+------------+----------------------+----------------+--------------------+--------------------+------------+---------+---------------+\n",
            "|                null|             null|           Lionsgate|        6.8|       865|       null|     Comedy|           250000|   28-Aug-98|                  null|            null|                null|I Married a Stran...|           0|   203134|         203134|\n",
            "|                null|    Shane Meadows|       October Films|        6.9|      1417|          R|     Comedy|          2000000|   15-Apr-98|                  null|            null| Original Screenplay|24 7: Twenty Four...|           0|    72544|          72544|\n",
            "|Contemporary Fiction| Robert Rodriguez|             Miramax|        6.4|     34328|          R|     Comedy|          4000000|   25-Dec-95|                    14|            null| Original Screenplay|          Four Rooms|           0|  4301000|        4301000|\n",
            "|Contemporary Fiction|        Alan Alda|           Universal|        7.0|      1814|       null|     Comedy|          6500000|   22-May-81|                    71|            null| Original Screenplay|    The Four Seasons|           0| 42488161|       42488161|\n",
            "|Contemporary Fiction|      Tom Shadyac|        Warner Bros.|        6.6|     63543|      PG-13|     Comedy|         12000000|    4-Feb-94|                    49|            null| Original Screenplay|Ace Ventura: Pet ...|           0| 72217396|      107217396|\n",
            "|                null|     George Lucas|           Universal|        7.6|     30952|       null|     Comedy|           777000|   11-Aug-73|                    97|            null| Original Screenplay|   American Graffiti|           0|115000000|      140000000|\n",
            "|                null|      Woody Allen|                 MGM|        8.2|     65406|       null|     Comedy|          4000000|   20-Apr-77|                    98|            null| Original Screenplay|          Annie Hall|           0| 38251425|       38251425|\n",
            "|Contemporary Fiction|             null|            Alliance|        6.9|       151|  Not Rated|     Comedy|          8000000|    4-Aug-06|                    67|            null| Original Screenplay|    Bon Cop, Bad Cop|           0| 12671300|       12671300|\n",
            "|             Fantasy|   Penny Marshall|    20th Century Fox|        7.2|     49256|       null|     Comedy|         18000000|    3-Jun-88|                    96|            null| Original Screenplay|                 Big|           0|114968774|      151668774|\n",
            "|                null|      Woody Allen|                 MGM|        7.1|     12415|      PG-13|     Comedy|          2000000|   28-Apr-71|                    89|            null| Original Screenplay|             Bananas|           0|     null|           null|\n",
            "|                null|       Mel Brooks|        Warner Bros.|        7.8|     45771|       null|     Comedy|          2600000|    1-Jan-74|                    89|            null| Original Screenplay|     Blazing Saddles|           0|119500000|      119500000|\n",
            "|     Science Fiction|    Stephen Herek|      Orion Pictures|        6.7|     30341|       null|     Comedy|         10000000|   17-Feb-89|                    81|            null| Original Screenplay|Bill & Ted's Exce...|           0| 39916091|       39916091|\n",
            "|             Fantasy|       Tim Burton|        Warner Bros.|        7.3|     61197|       null|     Comedy|         15000000|   30-Mar-88|                  null|            null| Original Screenplay|        Beetle Juice|           0| 73326666|       73326666|\n",
            "|Contemporary Fiction|             null|Link Productions ...|        7.0|      7129|  Not Rated|     Comedy|         16000000|   25-Jul-08|                  null|             109| Original Screenplay|Bienvenue chez le...|           0|  1470856|      243470856|\n",
            "|Contemporary Fiction|     Harold Ramis|        Warner Bros.|        7.3|     35436|       null|     Comedy|          6000000|   25-Jul-80|                    75|            null| Original Screenplay|          Caddyshack|           0| 39846344|       39846344|\n",
            "|Contemporary Fiction|      John Huston|       Sony Pictures|        8.0|    172936|       null|     Comedy|         12000000|   28-Apr-67|                    30|            null|Based on Book/Sho...|       Casino Royale|           0| 22744718|       41744718|\n",
            "|  Historical Fiction|             null|                 MGM|        8.0|     51757|         PG|     Comedy|          3250000|   18-Nov-83|                    88|            null|Based on Book/Sho...|   A Christmas Story|           0| 19294144|       19294144|\n",
            "|  Historical Fiction|        Spike Lee|           Universal|        6.5|      3137|      PG-13|     Comedy|         14000000|   13-May-94|                    75|            null| Original Screenplay|            Crooklyn|           0| 13024170|       13024170|\n",
            "|Contemporary Fiction|Thomas Vinterberg|       October Films|        8.1|     26607|          R|     Comedy|          1300000|    9-Oct-98|                  null|            null| Original Screenplay|              Festen|           0|  1647780|        1647780|\n",
            "|Contemporary Fiction|   Amy Heckerling|  Paramount Pictures|        6.7|     39055|      PG-13|     Comedy|         13700000|    1-Jul-95|                    83|            null|Based on Book/Sho...|            Clueless|           0| 56598476|       56598476|\n",
            "+--------------------+-----------------+--------------------+-----------+----------+-----------+-----------+-----------------+------------+----------------------+----------------+--------------------+--------------------+------------+---------+---------------+\n",
            "only showing top 20 rows\n",
            "\n"
          ]
        }
      ]
    },
    {
      "cell_type": "code",
      "source": [
        "movies_df.registerTempTable(\"Movies_Table\")\n",
        "query_df = spark.sql(\"SELECT * FROM Movies_table WHERE IMDB_Rating > 6 and Major_Genre = 'Comedy'\")\n",
        "query_df.show()"
      ],
      "metadata": {
        "colab": {
          "base_uri": "https://localhost:8080/"
        },
        "id": "S7v_18q6GfkV",
        "outputId": "a8bedb99-296b-4096-bbae-bed7557364f1"
      },
      "execution_count": 64,
      "outputs": [
        {
          "output_type": "stream",
          "name": "stderr",
          "text": [
            "/content/spark-3.3.1-bin-hadoop2/python/pyspark/sql/dataframe.py:229: FutureWarning: Deprecated in 2.0, use createOrReplaceTempView instead.\n",
            "  warnings.warn(\"Deprecated in 2.0, use createOrReplaceTempView instead.\", FutureWarning)\n"
          ]
        },
        {
          "output_type": "stream",
          "name": "stdout",
          "text": [
            "+--------------------+-----------------+--------------------+-----------+----------+-----------+-----------+-----------------+------------+----------------------+----------------+--------------------+--------------------+------------+---------+---------------+\n",
            "|       Creative_Type|         Director|         Distributor|IMDB_Rating|IMDB_Votes|MPAA_Rating|Major_Genre|Production_Budget|Release_Date|Rotten_Tomatoes_Rating|Running_Time_min|              Source|               Title|US_DVD_Sales| US_Gross|Worldwide_Gross|\n",
            "+--------------------+-----------------+--------------------+-----------+----------+-----------+-----------+-----------------+------------+----------------------+----------------+--------------------+--------------------+------------+---------+---------------+\n",
            "|                null|             null|           Lionsgate|        6.8|       865|       null|     Comedy|           250000|   28-Aug-98|                  null|            null|                null|I Married a Stran...|           0|   203134|         203134|\n",
            "|                null|    Shane Meadows|       October Films|        6.9|      1417|          R|     Comedy|          2000000|   15-Apr-98|                  null|            null| Original Screenplay|24 7: Twenty Four...|           0|    72544|          72544|\n",
            "|Contemporary Fiction| Robert Rodriguez|             Miramax|        6.4|     34328|          R|     Comedy|          4000000|   25-Dec-95|                    14|            null| Original Screenplay|          Four Rooms|           0|  4301000|        4301000|\n",
            "|Contemporary Fiction|        Alan Alda|           Universal|        7.0|      1814|       null|     Comedy|          6500000|   22-May-81|                    71|            null| Original Screenplay|    The Four Seasons|           0| 42488161|       42488161|\n",
            "|Contemporary Fiction|      Tom Shadyac|        Warner Bros.|        6.6|     63543|      PG-13|     Comedy|         12000000|    4-Feb-94|                    49|            null| Original Screenplay|Ace Ventura: Pet ...|           0| 72217396|      107217396|\n",
            "|                null|     George Lucas|           Universal|        7.6|     30952|       null|     Comedy|           777000|   11-Aug-73|                    97|            null| Original Screenplay|   American Graffiti|           0|115000000|      140000000|\n",
            "|                null|      Woody Allen|                 MGM|        8.2|     65406|       null|     Comedy|          4000000|   20-Apr-77|                    98|            null| Original Screenplay|          Annie Hall|           0| 38251425|       38251425|\n",
            "|Contemporary Fiction|             null|            Alliance|        6.9|       151|  Not Rated|     Comedy|          8000000|    4-Aug-06|                    67|            null| Original Screenplay|    Bon Cop, Bad Cop|           0| 12671300|       12671300|\n",
            "|             Fantasy|   Penny Marshall|    20th Century Fox|        7.2|     49256|       null|     Comedy|         18000000|    3-Jun-88|                    96|            null| Original Screenplay|                 Big|           0|114968774|      151668774|\n",
            "|                null|      Woody Allen|                 MGM|        7.1|     12415|      PG-13|     Comedy|          2000000|   28-Apr-71|                    89|            null| Original Screenplay|             Bananas|           0|     null|           null|\n",
            "|                null|       Mel Brooks|        Warner Bros.|        7.8|     45771|       null|     Comedy|          2600000|    1-Jan-74|                    89|            null| Original Screenplay|     Blazing Saddles|           0|119500000|      119500000|\n",
            "|     Science Fiction|    Stephen Herek|      Orion Pictures|        6.7|     30341|       null|     Comedy|         10000000|   17-Feb-89|                    81|            null| Original Screenplay|Bill & Ted's Exce...|           0| 39916091|       39916091|\n",
            "|             Fantasy|       Tim Burton|        Warner Bros.|        7.3|     61197|       null|     Comedy|         15000000|   30-Mar-88|                  null|            null| Original Screenplay|        Beetle Juice|           0| 73326666|       73326666|\n",
            "|Contemporary Fiction|             null|Link Productions ...|        7.0|      7129|  Not Rated|     Comedy|         16000000|   25-Jul-08|                  null|             109| Original Screenplay|Bienvenue chez le...|           0|  1470856|      243470856|\n",
            "|Contemporary Fiction|     Harold Ramis|        Warner Bros.|        7.3|     35436|       null|     Comedy|          6000000|   25-Jul-80|                    75|            null| Original Screenplay|          Caddyshack|           0| 39846344|       39846344|\n",
            "|Contemporary Fiction|      John Huston|       Sony Pictures|        8.0|    172936|       null|     Comedy|         12000000|   28-Apr-67|                    30|            null|Based on Book/Sho...|       Casino Royale|           0| 22744718|       41744718|\n",
            "|  Historical Fiction|             null|                 MGM|        8.0|     51757|         PG|     Comedy|          3250000|   18-Nov-83|                    88|            null|Based on Book/Sho...|   A Christmas Story|           0| 19294144|       19294144|\n",
            "|  Historical Fiction|        Spike Lee|           Universal|        6.5|      3137|      PG-13|     Comedy|         14000000|   13-May-94|                    75|            null| Original Screenplay|            Crooklyn|           0| 13024170|       13024170|\n",
            "|Contemporary Fiction|Thomas Vinterberg|       October Films|        8.1|     26607|          R|     Comedy|          1300000|    9-Oct-98|                  null|            null| Original Screenplay|              Festen|           0|  1647780|        1647780|\n",
            "|Contemporary Fiction|   Amy Heckerling|  Paramount Pictures|        6.7|     39055|      PG-13|     Comedy|         13700000|    1-Jul-95|                    83|            null|Based on Book/Sho...|            Clueless|           0| 56598476|       56598476|\n",
            "+--------------------+-----------------+--------------------+-----------+----------+-----------+-----------+-----------------+------------+----------------------+----------------+--------------------+--------------------+------------+---------+---------------+\n",
            "only showing top 20 rows\n",
            "\n"
          ]
        }
      ]
    }
  ],
  "metadata": {
    "kernelspec": {
      "display_name": "Python 3.10.0 64-bit",
      "language": "python",
      "name": "python3"
    },
    "language_info": {
      "codemirror_mode": {
        "name": "ipython",
        "version": 3
      },
      "file_extension": ".py",
      "mimetype": "text/x-python",
      "name": "python",
      "nbconvert_exporter": "python",
      "pygments_lexer": "ipython3",
      "version": "3.10.0"
    },
    "orig_nbformat": 4,
    "vscode": {
      "interpreter": {
        "hash": "ff1af5cda0bea4fe5c4ebc1f94ab9f13d8998f98d08e16d8aba48673b9d00116"
      }
    },
    "colab": {
      "provenance": []
    }
  },
  "nbformat": 4,
  "nbformat_minor": 0
}